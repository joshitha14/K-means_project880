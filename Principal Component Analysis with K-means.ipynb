{
 "cells": [
  {
   "cell_type": "code",
   "execution_count": 1,
   "metadata": {},
   "outputs": [],
   "source": [
    "import pandas as pd\n",
    "import seaborn as sns\n",
    "import matplotlib.pyplot as plt\n",
    "import ipaddress\n",
    "import numpy as np\n",
    "from scipy import stats\n",
    "from scipy.stats import chi2_contingency\n",
    "from datetime import datetime, timedelta\n",
    "import math\n",
    "import missingno as msno\n",
    "plt.style.use('ggplot')\n",
    "import warnings\n",
    "warnings.filterwarnings('ignore')"
   ]
  },
  {
   "cell_type": "code",
   "execution_count": 2,
   "metadata": {},
   "outputs": [],
   "source": [
    "df = pd.read_excel('/Users/joshitha/Downloads/Data.xlsx', skiprows=[1])"
   ]
  },
  {
   "cell_type": "code",
   "execution_count": 3,
   "metadata": {},
   "outputs": [
    {
     "data": {
      "text/plain": [
       "(363, 21)"
      ]
     },
     "execution_count": 3,
     "metadata": {},
     "output_type": "execute_result"
    }
   ],
   "source": [
    "import sklearn\n",
    "from sklearn.preprocessing import StandardScaler\n",
    "from sklearn.cluster import KMeans\n",
    "from sklearn.metrics import silhouette_score\n",
    "from scipy.cluster.hierarchy import linkage\n",
    "from scipy.cluster.hierarchy import dendrogram\n",
    "from scipy.cluster.hierarchy import cut_tree\n",
    "new_df = df[['Q6 CODE', 'Q7 CODE', 'Q8 CODE', 'Q11 CODE', 'Q12 CODE','Q13 CODE', 'Q14 CODE', 'Q16 CODE', 'Q17 CODE', 'Q18 CODE','Q19 CODE', 'Q20 CODE', 'Q22 CODE', 'Q23 CODE','Q24 CODE', 'Q25 CODE', 'Q26 CODE','Q27 CODE', 'Q28 CODE', 'Q29 CODE', 'Q30 CODE']]\n",
    "\n",
    "# Instantiate\n",
    "scaler = StandardScaler()\n",
    "\n",
    "# fit_transform\n",
    "df_scaled = scaler.fit_transform(new_df)\n",
    "df_scaled.shape"
   ]
  },
  {
   "cell_type": "code",
   "execution_count": 4,
   "metadata": {},
   "outputs": [
    {
     "data": {
      "text/html": [
       "<div>\n",
       "<style scoped>\n",
       "    .dataframe tbody tr th:only-of-type {\n",
       "        vertical-align: middle;\n",
       "    }\n",
       "\n",
       "    .dataframe tbody tr th {\n",
       "        vertical-align: top;\n",
       "    }\n",
       "\n",
       "    .dataframe thead th {\n",
       "        text-align: right;\n",
       "    }\n",
       "</style>\n",
       "<table border=\"1\" class=\"dataframe\">\n",
       "  <thead>\n",
       "    <tr style=\"text-align: right;\">\n",
       "      <th></th>\n",
       "      <th>Q6</th>\n",
       "      <th>Q7</th>\n",
       "      <th>Q8</th>\n",
       "      <th>Q11</th>\n",
       "      <th>Q12</th>\n",
       "      <th>Q13</th>\n",
       "      <th>Q14</th>\n",
       "      <th>Q16</th>\n",
       "      <th>Q17</th>\n",
       "      <th>Q18</th>\n",
       "      <th>...</th>\n",
       "      <th>Q20</th>\n",
       "      <th>Q22</th>\n",
       "      <th>Q23</th>\n",
       "      <th>Q24</th>\n",
       "      <th>Q25</th>\n",
       "      <th>Q26</th>\n",
       "      <th>Q27</th>\n",
       "      <th>Q28</th>\n",
       "      <th>Q29</th>\n",
       "      <th>Q30</th>\n",
       "    </tr>\n",
       "  </thead>\n",
       "  <tbody>\n",
       "    <tr>\n",
       "      <th>0</th>\n",
       "      <td>-3.317311</td>\n",
       "      <td>0.144313</td>\n",
       "      <td>-1.063539</td>\n",
       "      <td>-1.032427</td>\n",
       "      <td>0.806652</td>\n",
       "      <td>0.506976</td>\n",
       "      <td>0.346406</td>\n",
       "      <td>-1.470794</td>\n",
       "      <td>-2.451908</td>\n",
       "      <td>-1.604691</td>\n",
       "      <td>...</td>\n",
       "      <td>-2.702288</td>\n",
       "      <td>-1.189570</td>\n",
       "      <td>3.797906</td>\n",
       "      <td>-1.021376</td>\n",
       "      <td>0.32979</td>\n",
       "      <td>-1.287105</td>\n",
       "      <td>0.953320</td>\n",
       "      <td>-0.976022</td>\n",
       "      <td>-2.631852</td>\n",
       "      <td>-3.143574</td>\n",
       "    </tr>\n",
       "    <tr>\n",
       "      <th>1</th>\n",
       "      <td>-2.675080</td>\n",
       "      <td>0.144313</td>\n",
       "      <td>0.828935</td>\n",
       "      <td>-1.032427</td>\n",
       "      <td>0.806652</td>\n",
       "      <td>0.506976</td>\n",
       "      <td>0.346406</td>\n",
       "      <td>1.242793</td>\n",
       "      <td>0.461488</td>\n",
       "      <td>0.244524</td>\n",
       "      <td>...</td>\n",
       "      <td>-0.780779</td>\n",
       "      <td>-1.189570</td>\n",
       "      <td>-0.696438</td>\n",
       "      <td>-0.157135</td>\n",
       "      <td>-0.65147</td>\n",
       "      <td>1.133720</td>\n",
       "      <td>-0.447713</td>\n",
       "      <td>-0.976022</td>\n",
       "      <td>-0.261226</td>\n",
       "      <td>0.791313</td>\n",
       "    </tr>\n",
       "    <tr>\n",
       "      <th>2</th>\n",
       "      <td>1.178309</td>\n",
       "      <td>0.871892</td>\n",
       "      <td>-1.063539</td>\n",
       "      <td>-1.032427</td>\n",
       "      <td>0.806652</td>\n",
       "      <td>0.506976</td>\n",
       "      <td>0.346406</td>\n",
       "      <td>0.564396</td>\n",
       "      <td>-2.451908</td>\n",
       "      <td>1.169132</td>\n",
       "      <td>...</td>\n",
       "      <td>1.140731</td>\n",
       "      <td>-1.189570</td>\n",
       "      <td>-0.696438</td>\n",
       "      <td>-1.021376</td>\n",
       "      <td>-0.65147</td>\n",
       "      <td>1.133720</td>\n",
       "      <td>-0.447713</td>\n",
       "      <td>-1.754694</td>\n",
       "      <td>-0.261226</td>\n",
       "      <td>0.791313</td>\n",
       "    </tr>\n",
       "    <tr>\n",
       "      <th>3</th>\n",
       "      <td>0.536078</td>\n",
       "      <td>0.144313</td>\n",
       "      <td>0.828935</td>\n",
       "      <td>-0.131535</td>\n",
       "      <td>0.806652</td>\n",
       "      <td>0.506976</td>\n",
       "      <td>0.346406</td>\n",
       "      <td>1.242793</td>\n",
       "      <td>0.461488</td>\n",
       "      <td>-0.680083</td>\n",
       "      <td>...</td>\n",
       "      <td>1.140731</td>\n",
       "      <td>1.763004</td>\n",
       "      <td>-0.696438</td>\n",
       "      <td>-1.021376</td>\n",
       "      <td>-0.65147</td>\n",
       "      <td>-2.094047</td>\n",
       "      <td>-0.447713</td>\n",
       "      <td>1.359995</td>\n",
       "      <td>0.924087</td>\n",
       "      <td>0.791313</td>\n",
       "    </tr>\n",
       "    <tr>\n",
       "      <th>4</th>\n",
       "      <td>0.536078</td>\n",
       "      <td>0.144313</td>\n",
       "      <td>-1.063539</td>\n",
       "      <td>-1.032427</td>\n",
       "      <td>0.806652</td>\n",
       "      <td>0.506976</td>\n",
       "      <td>0.346406</td>\n",
       "      <td>-0.114001</td>\n",
       "      <td>0.461488</td>\n",
       "      <td>-0.680083</td>\n",
       "      <td>...</td>\n",
       "      <td>0.179976</td>\n",
       "      <td>0.286717</td>\n",
       "      <td>0.427148</td>\n",
       "      <td>0.707107</td>\n",
       "      <td>0.32979</td>\n",
       "      <td>-0.480164</td>\n",
       "      <td>0.953320</td>\n",
       "      <td>0.581323</td>\n",
       "      <td>0.924087</td>\n",
       "      <td>-0.192408</td>\n",
       "    </tr>\n",
       "  </tbody>\n",
       "</table>\n",
       "<p>5 rows × 21 columns</p>\n",
       "</div>"
      ],
      "text/plain": [
       "         Q6        Q7        Q8       Q11       Q12       Q13       Q14  \\\n",
       "0 -3.317311  0.144313 -1.063539 -1.032427  0.806652  0.506976  0.346406   \n",
       "1 -2.675080  0.144313  0.828935 -1.032427  0.806652  0.506976  0.346406   \n",
       "2  1.178309  0.871892 -1.063539 -1.032427  0.806652  0.506976  0.346406   \n",
       "3  0.536078  0.144313  0.828935 -0.131535  0.806652  0.506976  0.346406   \n",
       "4  0.536078  0.144313 -1.063539 -1.032427  0.806652  0.506976  0.346406   \n",
       "\n",
       "        Q16       Q17       Q18  ...       Q20       Q22       Q23       Q24  \\\n",
       "0 -1.470794 -2.451908 -1.604691  ... -2.702288 -1.189570  3.797906 -1.021376   \n",
       "1  1.242793  0.461488  0.244524  ... -0.780779 -1.189570 -0.696438 -0.157135   \n",
       "2  0.564396 -2.451908  1.169132  ...  1.140731 -1.189570 -0.696438 -1.021376   \n",
       "3  1.242793  0.461488 -0.680083  ...  1.140731  1.763004 -0.696438 -1.021376   \n",
       "4 -0.114001  0.461488 -0.680083  ...  0.179976  0.286717  0.427148  0.707107   \n",
       "\n",
       "       Q25       Q26       Q27       Q28       Q29       Q30  \n",
       "0  0.32979 -1.287105  0.953320 -0.976022 -2.631852 -3.143574  \n",
       "1 -0.65147  1.133720 -0.447713 -0.976022 -0.261226  0.791313  \n",
       "2 -0.65147  1.133720 -0.447713 -1.754694 -0.261226  0.791313  \n",
       "3 -0.65147 -2.094047 -0.447713  1.359995  0.924087  0.791313  \n",
       "4  0.32979 -0.480164  0.953320  0.581323  0.924087 -0.192408  \n",
       "\n",
       "[5 rows x 21 columns]"
      ]
     },
     "execution_count": 4,
     "metadata": {},
     "output_type": "execute_result"
    }
   ],
   "source": [
    "df_scaled = pd.DataFrame(df_scaled)\n",
    "df_scaled.columns = ['Q6', 'Q7', 'Q8','Q11',\n",
    "      'Q12', 'Q13', 'Q14', 'Q16', 'Q17', 'Q18',\n",
    "      'Q19', 'Q20', 'Q22', 'Q23', 'Q24', 'Q25', 'Q26',\n",
    "      'Q27', 'Q28', 'Q29', 'Q30']\n",
    "df_scaled.head()"
   ]
  },
  {
   "cell_type": "code",
   "execution_count": 5,
   "metadata": {},
   "outputs": [
    {
     "data": {
      "text/plain": [
       "KMeans(max_iter=50, n_clusters=4)"
      ]
     },
     "execution_count": 5,
     "metadata": {},
     "output_type": "execute_result"
    }
   ],
   "source": [
    "kmeans = KMeans(n_clusters=4, max_iter=50)\n",
    "kmeans.fit(df_scaled)"
   ]
  },
  {
   "cell_type": "code",
   "execution_count": 6,
   "metadata": {},
   "outputs": [
    {
     "data": {
      "text/plain": [
       "array([1, 0, 0, 0, 3, 1, 1, 1, 1, 3, 1, 1, 3, 3, 3, 0, 0, 0, 0, 3, 0, 0,\n",
       "       0, 3, 1, 1, 2, 0, 3, 0, 2, 0, 0, 3, 3, 3, 3, 0, 0, 3, 2, 3, 0, 3,\n",
       "       3, 3, 0, 3, 1, 0, 0, 1, 2, 0, 3, 0, 3, 0, 0, 0, 3, 0, 1, 0, 1, 2,\n",
       "       1, 3, 1, 2, 0, 1, 2, 3, 0, 3, 3, 2, 1, 1, 3, 0, 3, 0, 0, 0, 1, 0,\n",
       "       0, 0, 0, 0, 0, 0, 0, 2, 0, 0, 0, 1, 0, 2, 0, 0, 0, 3, 0, 0, 2, 1,\n",
       "       0, 0, 1, 3, 1, 1, 0, 3, 0, 2, 2, 0, 0, 3, 0, 0, 0, 1, 0, 0, 2, 0,\n",
       "       0, 2, 3, 0, 0, 1, 1, 0, 2, 1, 0, 0, 0, 3, 1, 2, 1, 1, 3, 1, 0, 0,\n",
       "       0, 2, 1, 2, 0, 0, 2, 1, 0, 0, 0, 2, 2, 0, 1, 3, 3, 3, 3, 0, 3, 2,\n",
       "       2, 1, 0, 0, 3, 2, 3, 0, 0, 1, 2, 0, 3, 0, 2, 1, 0, 1, 2, 2, 2, 1,\n",
       "       0, 0, 0, 1, 3, 3, 0, 1, 2, 3, 3, 3, 1, 0, 1, 2, 2, 0, 1, 3, 3, 1,\n",
       "       2, 0, 1, 3, 0, 3, 0, 3, 3, 0, 0, 0, 3, 0, 0, 2, 3, 1, 0, 3, 2, 0,\n",
       "       0, 0, 3, 0, 3, 3, 3, 3, 3, 3, 0, 0, 1, 0, 0, 0, 1, 1, 1, 2, 0, 2,\n",
       "       0, 1, 1, 1, 2, 0, 0, 3, 2, 0, 3, 0, 2, 2, 3, 3, 0, 0, 0, 3, 0, 0,\n",
       "       1, 0, 3, 1, 2, 1, 1, 1, 3, 2, 1, 0, 2, 1, 2, 3, 3, 0, 3, 1, 3, 3,\n",
       "       1, 1, 3, 1, 0, 3, 3, 0, 3, 3, 0, 3, 2, 0, 3, 0, 1, 2, 0, 0, 3, 3,\n",
       "       3, 1, 3, 1, 0, 0, 0, 3, 3, 0, 2, 0, 3, 1, 1, 1, 2, 1, 0, 0, 0, 0,\n",
       "       2, 2, 1, 0, 2, 3, 3, 3, 3, 0, 2], dtype=int32)"
      ]
     },
     "execution_count": 6,
     "metadata": {},
     "output_type": "execute_result"
    }
   ],
   "source": [
    "kmeans.labels_"
   ]
  },
  {
   "cell_type": "code",
   "execution_count": 7,
   "metadata": {},
   "outputs": [
    {
     "data": {
      "text/plain": [
       "[<matplotlib.lines.Line2D at 0x11f211fa0>]"
      ]
     },
     "execution_count": 7,
     "metadata": {},
     "output_type": "execute_result"
    },
    {
     "data": {
      "image/png": "[encoded data removed]",
      "text/plain": [
       "<Figure size 432x288 with 1 Axes>"
      ]
     },
     "metadata": {},
     "output_type": "display_data"
    }
   ],
   "source": [
    "ssd = []\n",
    "range_n_clusters = [2, 3, 4, 5, 6, 7, 8, 9, 10, 11]\n",
    "for num_clusters in range_n_clusters:\n",
    "    kmeans = KMeans(n_clusters=num_clusters, max_iter=50)\n",
    "    kmeans.fit(df_scaled)\n",
    "    \n",
    "    ssd.append(kmeans.inertia_)\n",
    "    \n",
    "# plot the SSDs for each n_clusters\n",
    "plt.plot(ssd, marker=\"+\")"
   ]
  },
  {
   "cell_type": "code",
   "execution_count": 8,
   "metadata": {},
   "outputs": [
    {
     "name": "stdout",
     "output_type": "stream",
     "text": [
      "(363, 69)\n",
      "(363, 108)\n"
     ]
    },
    {
     "data": {
      "text/html": [
       "<div>\n",
       "<style scoped>\n",
       "    .dataframe tbody tr th:only-of-type {\n",
       "        vertical-align: middle;\n",
       "    }\n",
       "\n",
       "    .dataframe tbody tr th {\n",
       "        vertical-align: top;\n",
       "    }\n",
       "\n",
       "    .dataframe thead th {\n",
       "        text-align: right;\n",
       "    }\n",
       "</style>\n",
       "<table border=\"1\" class=\"dataframe\">\n",
       "  <thead>\n",
       "    <tr style=\"text-align: right;\">\n",
       "      <th></th>\n",
       "      <th>Q6_-</th>\n",
       "      <th>Q6_18-24 years old</th>\n",
       "      <th>Q6_25-34 years old</th>\n",
       "      <th>Q6_35-44 years old</th>\n",
       "      <th>Q6_45-54 years old</th>\n",
       "      <th>Q6_55-64 years old</th>\n",
       "      <th>Q6_65-74 years old</th>\n",
       "      <th>Q6_75 years old or older</th>\n",
       "      <th>Q6_Prefer not to disclose</th>\n",
       "      <th>Q7_Associate degree</th>\n",
       "      <th>...</th>\n",
       "      <th>Q29_Always</th>\n",
       "      <th>Q29_Never</th>\n",
       "      <th>Q29_Often</th>\n",
       "      <th>Q29_Rarely</th>\n",
       "      <th>Q29_Sometimes</th>\n",
       "      <th>Q30_Always</th>\n",
       "      <th>Q30_Never</th>\n",
       "      <th>Q30_Often</th>\n",
       "      <th>Q30_Rarely</th>\n",
       "      <th>Q30_Sometimes</th>\n",
       "    </tr>\n",
       "  </thead>\n",
       "  <tbody>\n",
       "    <tr>\n",
       "      <th>0</th>\n",
       "      <td>1</td>\n",
       "      <td>0</td>\n",
       "      <td>0</td>\n",
       "      <td>0</td>\n",
       "      <td>0</td>\n",
       "      <td>0</td>\n",
       "      <td>0</td>\n",
       "      <td>0</td>\n",
       "      <td>0</td>\n",
       "      <td>0</td>\n",
       "      <td>...</td>\n",
       "      <td>0</td>\n",
       "      <td>0</td>\n",
       "      <td>0</td>\n",
       "      <td>1</td>\n",
       "      <td>0</td>\n",
       "      <td>0</td>\n",
       "      <td>1</td>\n",
       "      <td>0</td>\n",
       "      <td>0</td>\n",
       "      <td>0</td>\n",
       "    </tr>\n",
       "    <tr>\n",
       "      <th>1</th>\n",
       "      <td>0</td>\n",
       "      <td>1</td>\n",
       "      <td>0</td>\n",
       "      <td>0</td>\n",
       "      <td>0</td>\n",
       "      <td>0</td>\n",
       "      <td>0</td>\n",
       "      <td>0</td>\n",
       "      <td>0</td>\n",
       "      <td>0</td>\n",
       "      <td>...</td>\n",
       "      <td>0</td>\n",
       "      <td>0</td>\n",
       "      <td>1</td>\n",
       "      <td>0</td>\n",
       "      <td>0</td>\n",
       "      <td>1</td>\n",
       "      <td>0</td>\n",
       "      <td>0</td>\n",
       "      <td>0</td>\n",
       "      <td>0</td>\n",
       "    </tr>\n",
       "    <tr>\n",
       "      <th>2</th>\n",
       "      <td>0</td>\n",
       "      <td>0</td>\n",
       "      <td>0</td>\n",
       "      <td>0</td>\n",
       "      <td>0</td>\n",
       "      <td>0</td>\n",
       "      <td>0</td>\n",
       "      <td>1</td>\n",
       "      <td>0</td>\n",
       "      <td>0</td>\n",
       "      <td>...</td>\n",
       "      <td>0</td>\n",
       "      <td>0</td>\n",
       "      <td>1</td>\n",
       "      <td>0</td>\n",
       "      <td>0</td>\n",
       "      <td>1</td>\n",
       "      <td>0</td>\n",
       "      <td>0</td>\n",
       "      <td>0</td>\n",
       "      <td>0</td>\n",
       "    </tr>\n",
       "    <tr>\n",
       "      <th>3</th>\n",
       "      <td>0</td>\n",
       "      <td>0</td>\n",
       "      <td>0</td>\n",
       "      <td>0</td>\n",
       "      <td>0</td>\n",
       "      <td>0</td>\n",
       "      <td>1</td>\n",
       "      <td>0</td>\n",
       "      <td>0</td>\n",
       "      <td>0</td>\n",
       "      <td>...</td>\n",
       "      <td>1</td>\n",
       "      <td>0</td>\n",
       "      <td>0</td>\n",
       "      <td>0</td>\n",
       "      <td>0</td>\n",
       "      <td>1</td>\n",
       "      <td>0</td>\n",
       "      <td>0</td>\n",
       "      <td>0</td>\n",
       "      <td>0</td>\n",
       "    </tr>\n",
       "    <tr>\n",
       "      <th>4</th>\n",
       "      <td>0</td>\n",
       "      <td>0</td>\n",
       "      <td>0</td>\n",
       "      <td>0</td>\n",
       "      <td>0</td>\n",
       "      <td>0</td>\n",
       "      <td>1</td>\n",
       "      <td>0</td>\n",
       "      <td>0</td>\n",
       "      <td>0</td>\n",
       "      <td>...</td>\n",
       "      <td>1</td>\n",
       "      <td>0</td>\n",
       "      <td>0</td>\n",
       "      <td>0</td>\n",
       "      <td>0</td>\n",
       "      <td>0</td>\n",
       "      <td>0</td>\n",
       "      <td>1</td>\n",
       "      <td>0</td>\n",
       "      <td>0</td>\n",
       "    </tr>\n",
       "  </tbody>\n",
       "</table>\n",
       "<p>5 rows × 108 columns</p>\n",
       "</div>"
      ],
      "text/plain": [
       "   Q6_-   Q6_18-24 years old  Q6_25-34 years old  Q6_35-44 years old  \\\n",
       "0      1                   0                   0                   0   \n",
       "1      0                   1                   0                   0   \n",
       "2      0                   0                   0                   0   \n",
       "3      0                   0                   0                   0   \n",
       "4      0                   0                   0                   0   \n",
       "\n",
       "   Q6_45-54 years old  Q6_55-64 years old  Q6_65-74 years old  \\\n",
       "0                   0                   0                   0   \n",
       "1                   0                   0                   0   \n",
       "2                   0                   0                   0   \n",
       "3                   0                   0                   1   \n",
       "4                   0                   0                   1   \n",
       "\n",
       "   Q6_75 years old or older  Q6_Prefer not to disclose  Q7_Associate degree  \\\n",
       "0                         0                          0                    0   \n",
       "1                         0                          0                    0   \n",
       "2                         1                          0                    0   \n",
       "3                         0                          0                    0   \n",
       "4                         0                          0                    0   \n",
       "\n",
       "   ...  Q29_Always  Q29_Never  Q29_Often  Q29_Rarely  Q29_Sometimes  \\\n",
       "0  ...           0          0          0           1              0   \n",
       "1  ...           0          0          1           0              0   \n",
       "2  ...           0          0          1           0              0   \n",
       "3  ...           1          0          0           0              0   \n",
       "4  ...           1          0          0           0              0   \n",
       "\n",
       "   Q30_Always  Q30_Never  Q30_Often  Q30_Rarely  Q30_Sometimes  \n",
       "0           0          1          0           0              0  \n",
       "1           1          0          0           0              0  \n",
       "2           1          0          0           0              0  \n",
       "3           1          0          0           0              0  \n",
       "4           0          0          1           0              0  \n",
       "\n",
       "[5 rows x 108 columns]"
      ]
     },
     "execution_count": 8,
     "metadata": {},
     "output_type": "execute_result"
    }
   ],
   "source": [
    "features = ['Q6', 'Q7', 'Q8', 'Q11',\n",
    "       'Q12', 'Q13', 'Q14', 'Q16', 'Q17', 'Q18',\n",
    "       'Q19', 'Q20', 'Q22', 'Q23', 'Q24', 'Q25', 'Q26',\n",
    "       'Q27', 'Q28', 'Q29', 'Q30']\n",
    "# Making categorical variables into numeric representation\n",
    "\n",
    "print(df.shape)\n",
    "raw_data = df[features]\n",
    "# Making categorical variables into numeric representation\n",
    "new_raw_data = pd.get_dummies(raw_data, columns = features)\n",
    "\n",
    "# Notes:\n",
    "# We can also do this with Label Encoding and OneHotEncoder from the preprocessing library\n",
    "\n",
    "print(new_raw_data.shape)\n",
    "# print the shape\n",
    "\n",
    "new_raw_data.head()"
   ]
  },
  {
   "cell_type": "code",
   "execution_count": 9,
   "metadata": {},
   "outputs": [
    {
     "name": "stdout",
     "output_type": "stream",
     "text": [
      "The clusters are:  [2 3 1 1 2 2 2 2 3 2 2 3 1 1 2 1 3 1 1 2 3 1 3 2 2 2 0 1 3 1 2 1 3 3 2 2 0\n",
      " 1 1 3 0 1 3 3 2 1 1 2 2 1 3 2 2 3 2 1 2 3 3 1 3 1 2 1 0 2 1 1 2 0 3 2 0 1\n",
      " 3 3 2 0 0 3 2 1 0 3 3 3 2 1 3 3 3 3 1 1 3 0 1 1 1 2 2 0 1 1 3 3 3 1 2 3 2\n",
      " 3 3 0 1 3 1 1 1 0 2 1 1 1 1 1 3 0 3 3 0 3 1 0 2 1 1 3 2 3 1 2 1 3 3 2 2 0\n",
      " 2 2 3 2 3 2 3 0 2 0 1 1 0 2 1 3 3 1 2 1 0 1 2 2 2 1 2 0 0 3 3 3 2 0 1 3 1\n",
      " 0 2 1 2 1 0 2 3 2 0 3 0 3 1 1 1 3 3 0 3 2 2 1 1 3 3 3 3 0 0 1 0 2 1 2 1 3\n",
      " 2 2 3 2 1 2 2 1 3 1 3 1 1 0 2 2 1 2 0 2 3 2 3 1 2 1 2 2 2 1 1 3 2 1 1 1 2\n",
      " 2 2 0 1 0 1 1 2 2 3 1 3 3 2 1 3 1 0 2 3 3 1 1 1 1 1 1 2 1 2 2 2 2 2 2 2 1\n",
      " 2 1 3 0 2 3 2 3 2 2 2 2 3 0 0 2 3 3 3 3 2 2 1 2 3 1 3 2 2 0 1 3 3 0 0 0 2\n",
      " 2 1 3 1 0 2 3 1 3 2 2 0 2 2 2 2 1 3 3 0 3 2 1 0 1 2 2 3 2 2]\n",
      "The Inertia is:  4193.6359428079495\n"
     ]
    }
   ],
   "source": [
    "from sklearn.linear_model import LinearRegression\n",
    "from sklearn.linear_model import LogisticRegression\n",
    "from sklearn.tree import DecisionTreeClassifier\n",
    "from sklearn.model_selection import train_test_split\n",
    "from sklearn.metrics import r2_score, explained_variance_score, confusion_matrix, accuracy_score, classification_report, log_loss\n",
    "from math import sqrt\n",
    "\n",
    "from sklearn.cluster import KMeans, k_means\n",
    "X_train = new_raw_data.values\n",
    "\n",
    "# We wills start with 5 clusters\n",
    "\n",
    "kmeans = KMeans(n_clusters=4, random_state=540)\n",
    "kmeans = kmeans.fit(X_train)\n",
    "\n",
    "# Prints the clusters it assigned to each observation\n",
    "print(\"The clusters are: \", kmeans.labels_)\n",
    "\n",
    "# Prints the Inertia\n",
    "print(\"The Inertia is: \", kmeans.inertia_)"
   ]
  },
  {
   "cell_type": "code",
   "execution_count": 10,
   "metadata": {},
   "outputs": [
    {
     "name": "stdout",
     "output_type": "stream",
     "text": [
      "The innertia for : 2 Clusters is: 4399.575409221546\n",
      "The innertia for : 3 Clusters is: 4272.6044933169005\n",
      "The innertia for : 4 Clusters is: 4187.106844356843\n",
      "The innertia for : 5 Clusters is: 4119.0380802749605\n",
      "The innertia for : 6 Clusters is: 4057.6843792956693\n",
      "The innertia for : 7 Clusters is: 3995.579912984003\n",
      "The innertia for : 8 Clusters is: 3946.9490263835464\n",
      "The innertia for : 9 Clusters is: 3909.775480029668\n",
      "The innertia for : 10 Clusters is: 3859.518120203163\n",
      "The innertia for : 11 Clusters is: 3822.888591060101\n",
      "The innertia for : 12 Clusters is: 3764.283984386251\n",
      "The innertia for : 13 Clusters is: 3750.3735452409396\n",
      "The innertia for : 14 Clusters is: 3725.169462239972\n",
      "The innertia for : 15 Clusters is: 3700.790141140552\n",
      "The innertia for : 16 Clusters is: 3669.3936388815373\n",
      "The innertia for : 17 Clusters is: 3634.666550559862\n",
      "The innertia for : 18 Clusters is: 3605.9203292637226\n",
      "The innertia for : 19 Clusters is: 3593.424340195186\n"
     ]
    }
   ],
   "source": [
    "no_of_clusters = range(2,20) #[2,3,4,5,6,7,8,9]\n",
    "inertia = []\n",
    "\n",
    "\n",
    "for f in no_of_clusters:\n",
    "    kmeans = KMeans(n_clusters=f, random_state=2)\n",
    "    kmeans = kmeans.fit(X_train)\n",
    "    u = kmeans.inertia_\n",
    "    inertia.append(u)\n",
    "    print(\"The innertia for :\", f, \"Clusters is:\", u)"
   ]
  },
  {
   "cell_type": "code",
   "execution_count": 11,
   "metadata": {},
   "outputs": [
    {
     "data": {
      "text/plain": [
       "Text(0.5, 1.0, 'Inertia Plot per k')"
      ]
     },
     "execution_count": 11,
     "metadata": {},
     "output_type": "execute_result"
    },
    {
     "data": {
      "image/png": "[encoded data removed]",
      "text/plain": [
       "<Figure size 1152x432 with 1 Axes>"
      ]
     },
     "metadata": {},
     "output_type": "display_data"
    }
   ],
   "source": [
    "fig, (ax1) = plt.subplots(1, figsize=(16,6))\n",
    "xx = np.arange(len(no_of_clusters))\n",
    "ax1.plot(xx, inertia)\n",
    "ax1.set_xticks(xx)\n",
    "ax1.set_xticklabels(no_of_clusters, rotation='vertical')\n",
    "plt.xlabel('Number of clusters')\n",
    "plt.ylabel('Inertia Score')\n",
    "plt.title(\"Inertia Plot per k\")"
   ]
  },
  {
   "cell_type": "code",
   "execution_count": 12,
   "metadata": {},
   "outputs": [
    {
     "data": {
      "text/html": [
       "<div>\n",
       "<style scoped>\n",
       "    .dataframe tbody tr th:only-of-type {\n",
       "        vertical-align: middle;\n",
       "    }\n",
       "\n",
       "    .dataframe tbody tr th {\n",
       "        vertical-align: top;\n",
       "    }\n",
       "\n",
       "    .dataframe thead th {\n",
       "        text-align: right;\n",
       "    }\n",
       "</style>\n",
       "<table border=\"1\" class=\"dataframe\">\n",
       "  <thead>\n",
       "    <tr style=\"text-align: right;\">\n",
       "      <th></th>\n",
       "      <th>Cluster 0</th>\n",
       "      <th>Cluster 1</th>\n",
       "      <th>Cluster 2</th>\n",
       "      <th>Cluster 3</th>\n",
       "    </tr>\n",
       "  </thead>\n",
       "  <tbody>\n",
       "    <tr>\n",
       "      <th>0</th>\n",
       "      <td>84</td>\n",
       "      <td>117</td>\n",
       "      <td>74</td>\n",
       "      <td>88</td>\n",
       "    </tr>\n",
       "  </tbody>\n",
       "</table>\n",
       "</div>"
      ],
      "text/plain": [
       "   Cluster 0  Cluster 1  Cluster 2  Cluster 3\n",
       "0         84        117         74         88"
      ]
     },
     "execution_count": 12,
     "metadata": {},
     "output_type": "execute_result"
    }
   ],
   "source": [
    "kmeans = KMeans(n_clusters=4, random_state=2)\n",
    "kmeans = kmeans.fit(X_train)\n",
    "\n",
    "\n",
    "kmeans.labels_\n",
    "\n",
    "# \"predictions\" for new data\n",
    "predictions = kmeans.predict(X_train)\n",
    "\n",
    "# calculating the Counts of the cluster\n",
    "unique, counts = np.unique(predictions, return_counts=True)\n",
    "counts = counts.reshape(1,4)\n",
    "\n",
    "# Creating a datagrame\n",
    "countscldf = pd.DataFrame(counts, columns = [\"Cluster 0\",\"Cluster 1\",\"Cluster 2\", \"Cluster 3\"])\n",
    "\n",
    "# display\n",
    "countscldf"
   ]
  },
  {
   "cell_type": "code",
   "execution_count": 13,
   "metadata": {},
   "outputs": [
    {
     "data": {
      "text/plain": [
       "array([0, 1, 1, 1, 3, 0, 0, 0, 3, 3, 0, 2, 1, 1, 3, 1, 3, 1, 1, 3, 1, 1,\n",
       "       2, 0, 0, 3, 2, 1, 2, 1, 3, 1, 0, 3, 3, 0, 2, 1, 1, 2, 2, 1, 2, 3,\n",
       "       3, 1, 1, 0, 0, 1, 2, 3, 0, 2, 3, 1, 0, 3, 3, 1, 3, 1, 3, 1, 0, 3,\n",
       "       1, 1, 0, 2, 3, 0, 0, 1, 1, 3, 3, 2, 0, 3, 3, 1, 2, 1, 0, 3, 0, 1,\n",
       "       1, 1, 2, 3, 1, 1, 3, 2, 1, 1, 1, 0, 3, 2, 1, 1, 2, 2, 3, 1, 2, 0,\n",
       "       3, 2, 3, 3, 1, 3, 1, 1, 1, 2, 3, 1, 1, 1, 1, 1, 3, 2, 1, 1, 2, 1,\n",
       "       1, 2, 3, 1, 1, 0, 0, 3, 1, 0, 1, 2, 3, 2, 0, 2, 0, 0, 3, 0, 1, 3,\n",
       "       2, 2, 0, 2, 1, 1, 2, 0, 1, 2, 2, 1, 3, 1, 3, 1, 3, 3, 0, 1, 3, 0,\n",
       "       2, 0, 1, 3, 3, 2, 1, 0, 1, 2, 3, 1, 0, 1, 2, 0, 3, 3, 2, 2, 2, 3,\n",
       "       1, 1, 1, 1, 3, 2, 1, 0, 3, 1, 1, 0, 1, 2, 2, 2, 2, 1, 3, 3, 1, 0,\n",
       "       2, 0, 0, 0, 1, 3, 1, 0, 2, 1, 2, 1, 0, 1, 1, 2, 0, 0, 1, 0, 2, 3,\n",
       "       3, 0, 2, 1, 3, 1, 3, 0, 3, 1, 1, 3, 0, 1, 1, 1, 0, 0, 0, 2, 1, 2,\n",
       "       1, 1, 0, 0, 3, 1, 2, 0, 0, 1, 0, 1, 2, 3, 2, 0, 1, 1, 1, 1, 1, 1,\n",
       "       3, 1, 0, 0, 3, 0, 0, 0, 0, 2, 0, 1, 2, 2, 3, 1, 3, 3, 3, 0, 3, 3,\n",
       "       0, 2, 3, 0, 2, 3, 2, 2, 3, 0, 1, 0, 2, 1, 2, 0, 2, 2, 1, 3, 2, 0,\n",
       "       2, 3, 0, 0, 1, 3, 2, 3, 3, 3, 1, 3, 0, 0, 2, 0, 3, 3, 0, 1, 0, 3,\n",
       "       2, 2, 0, 1, 2, 1, 3, 0, 0, 3, 3], dtype=int32)"
      ]
     },
     "execution_count": 13,
     "metadata": {},
     "output_type": "execute_result"
    }
   ],
   "source": [
    "kmeans.labels_"
   ]
  },
  {
   "cell_type": "code",
   "execution_count": 14,
   "metadata": {},
   "outputs": [
    {
     "data": {
      "text/plain": [
       "array([0, 1, 1, 1, 3, 0, 0, 0, 3, 3, 0, 2, 1, 1, 3, 1, 3, 1, 1, 3, 1, 1,\n",
       "       2, 0, 0, 3, 2, 1, 2, 1, 3, 1, 0, 3, 3, 0, 2, 1, 1, 2, 2, 1, 2, 3,\n",
       "       3, 1, 1, 0, 0, 1, 2, 3, 0, 2, 3, 1, 0, 3, 3, 1, 3, 1, 3, 1, 0, 3,\n",
       "       1, 1, 0, 2, 3, 0, 0, 1, 1, 3, 3, 2, 0, 3, 3, 1, 2, 1, 0, 3, 0, 1,\n",
       "       1, 1, 2, 3, 1, 1, 3, 2, 1, 1, 1, 0, 3, 2, 1, 1, 2, 2, 3, 1, 2, 0,\n",
       "       3, 2, 3, 3, 1, 3, 1, 1, 1, 2, 3, 1, 1, 1, 1, 1, 3, 2, 1, 1, 2, 1,\n",
       "       1, 2, 3, 1, 1, 0, 0, 3, 1, 0, 1, 2, 3, 2, 0, 2, 0, 0, 3, 0, 1, 3,\n",
       "       2, 2, 0, 2, 1, 1, 2, 0, 1, 2, 2, 1, 3, 1, 3, 1, 3, 3, 0, 1, 3, 0,\n",
       "       2, 0, 1, 3, 3, 2, 1, 0, 1, 2, 3, 1, 0, 1, 2, 0, 3, 3, 2, 2, 2, 3,\n",
       "       1, 1, 1, 1, 3, 2, 1, 0, 3, 1, 1, 0, 1, 2, 2, 2, 2, 1, 3, 3, 1, 0,\n",
       "       2, 0, 0, 0, 1, 3, 1, 0, 2, 1, 2, 1, 0, 1, 1, 2, 0, 0, 1, 0, 2, 3,\n",
       "       3, 0, 2, 1, 3, 1, 3, 0, 3, 1, 1, 3, 0, 1, 1, 1, 0, 0, 0, 2, 1, 2,\n",
       "       1, 1, 0, 0, 3, 1, 2, 0, 0, 1, 0, 1, 2, 3, 2, 0, 1, 1, 1, 1, 1, 1,\n",
       "       3, 1, 0, 0, 3, 0, 0, 0, 0, 2, 0, 1, 2, 2, 3, 1, 3, 3, 3, 0, 3, 3,\n",
       "       0, 2, 3, 0, 2, 3, 2, 2, 3, 0, 1, 0, 2, 1, 2, 0, 2, 2, 1, 3, 2, 0,\n",
       "       2, 3, 0, 0, 1, 3, 2, 3, 3, 3, 1, 3, 0, 0, 2, 0, 3, 3, 0, 1, 0, 3,\n",
       "       2, 2, 0, 1, 2, 1, 3, 0, 0, 3, 3], dtype=int32)"
      ]
     },
     "execution_count": 14,
     "metadata": {},
     "output_type": "execute_result"
    }
   ],
   "source": [
    "predictions"
   ]
  },
  {
   "cell_type": "code",
   "execution_count": 15,
   "metadata": {},
   "outputs": [
    {
     "name": "stdout",
     "output_type": "stream",
     "text": [
      "Explained variance ratio (first two components): [0.09903858 0.04520143]\n"
     ]
    },
    {
     "data": {
      "text/plain": [
       "<Figure size 432x288 with 0 Axes>"
      ]
     },
     "metadata": {},
     "output_type": "display_data"
    },
    {
     "data": {
      "image/png": "[encoded data removed]",
      "text/plain": [
       "<Figure size 720x360 with 1 Axes>"
      ]
     },
     "metadata": {},
     "output_type": "display_data"
    }
   ],
   "source": [
    "from sklearn.decomposition import PCA\n",
    "from sklearn.discriminant_analysis import LinearDiscriminantAnalysis\n",
    "\n",
    "X = X_train\n",
    "y_num = predictions\n",
    "\n",
    "target_names = [\"Cluster 0\",\"Cluster 1\",\"Cluster 2\", \"Cluster 3\"]\n",
    "\n",
    "pca = PCA(n_components=2, random_state = 500)\n",
    "X_r = pca.fit(X).transform(X)\n",
    "\n",
    "\n",
    "# Percentage of variance explained for each components\n",
    "print('Explained variance ratio (first two components): %s' % str(pca.explained_variance_ratio_))\n",
    "\n",
    "# Plotting the data\n",
    "plt.figure()\n",
    "plt.figure(figsize=(10,5))\n",
    "colors = ['blue', 'red', 'green', 'yellow']\n",
    "lw = 2\n",
    "\n",
    "\n",
    "for color, i, target_name in zip(colors, [0, 1, 2, 3], target_names):\n",
    "    plt.scatter(X_r[y_num == i, 0], X_r[y_num == i, 1], color=color, alpha=.8, lw=lw,label=target_name)\n",
    "    \n",
    "plt.legend(loc='best', shadow=False, scatterpoints=3)\n",
    "plt.legend(bbox_to_anchor=(1.05, 1), loc=2, borderaxespad=0.6)   \n",
    "plt.title('Clusters')\n",
    "plt.show()\n",
    "\n",
    "kmeans = KMeans(n_clusters=4)\n",
    "kmeans.fit(df_scaled)\n",
    "labels = kmeans.labels_\n",
    "\n",
    "clusters=pd.concat([new_df, pd.DataFrame({'cluster':labels})], axis=1)\n",
    "clusters.head()\n",
    "clusters.to_excel('file2.xlsx')"
   ]
  },
  {
   "cell_type": "code",
   "execution_count": null,
   "metadata": {},
   "outputs": [],
   "source": []
  }
 ],
 "metadata": {
  "kernelspec": {
   "display_name": "Python 3",
   "language": "python",
   "name": "python3"
  },
  "language_info": {
   "codemirror_mode": {
    "name": "ipython",
    "version": 3
   },
   "file_extension": ".py",
   "mimetype": "text/x-python",
   "name": "python",
   "nbconvert_exporter": "python",
   "pygments_lexer": "ipython3",
   "version": "3.8.3"
  }
 },
 "nbformat": 4,
 "nbformat_minor": 4
}
